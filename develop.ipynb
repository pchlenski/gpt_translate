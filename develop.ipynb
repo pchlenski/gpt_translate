{
 "cells": [
  {
   "cell_type": "markdown",
   "metadata": {},
   "source": [
    "# Development notebook\n",
    "> Figuring out how API calls work and such"
   ]
  },
  {
   "cell_type": "code",
   "execution_count": 18,
   "metadata": {},
   "outputs": [],
   "source": [
    "# Basic imports; set API key\n",
    "\n",
    "import openai\n",
    "import re\n",
    "\n",
    "openai.api_key_path = \"api_key\"\n"
   ]
  },
  {
   "cell_type": "code",
   "execution_count": 3,
   "metadata": {},
   "outputs": [],
   "source": [
    "# Global variables\n",
    "\n",
    "MODEL = \"gpt-4\"\n",
    "SOURCE_LANGUAGE = \"English\"\n",
    "TARGET_LANGUAGE = \"Russian\"\n"
   ]
  },
  {
   "cell_type": "code",
   "execution_count": 32,
   "metadata": {},
   "outputs": [
    {
     "data": {
      "text/plain": [
       "['’Twas brillig, and the slithy toves',\n",
       " '<NEWLINE>',\n",
       " 'Did gyre and gimble in the wabe:',\n",
       " '<NEWLINE>',\n",
       " 'All mimsy were the borogoves,',\n",
       " '<NEWLINE>',\n",
       " 'And the mome raths outgrabe',\n",
       " '<NEWLINE>',\n",
       " '<NEWLINE>',\n",
       " '“Beware the Jabberwock, my son',\n",
       " '<NEWLINE>',\n",
       " 'The jaws that bite, the claws that catch',\n",
       " '<NEWLINE>',\n",
       " 'Beware the Jubjub bird, and shun',\n",
       " '<NEWLINE>',\n",
       " 'The frumious Bandersnatch',\n",
       " '”',\n",
       " '<NEWLINE>',\n",
       " '<NEWLINE>',\n",
       " 'He took his vorpal sword in hand;',\n",
       " '<NEWLINE>',\n",
       " 'Long time the manxome foe he sought—',\n",
       " '<NEWLINE>',\n",
       " 'So rested he by the Tumtum tree',\n",
       " '<NEWLINE>',\n",
       " 'And stood awhile in thought',\n",
       " '<NEWLINE>',\n",
       " '<NEWLINE>',\n",
       " 'And, as in uffish thought he stood,',\n",
       " '<NEWLINE>',\n",
       " 'The Jabberwock, with eyes of flame,',\n",
       " '<NEWLINE>',\n",
       " 'Came whiffling through the tulgey wood,',\n",
       " '<NEWLINE>',\n",
       " 'And burbled as it came',\n",
       " '<NEWLINE>',\n",
       " '<NEWLINE>',\n",
       " 'One, two',\n",
       " 'One, two',\n",
       " 'And through and through',\n",
       " '<NEWLINE>',\n",
       " 'The vorpal blade went snicker-snack',\n",
       " '<NEWLINE>',\n",
       " 'He left it dead, and with its head',\n",
       " '<NEWLINE>',\n",
       " 'He went galumphing back',\n",
       " '<NEWLINE>',\n",
       " '<NEWLINE>',\n",
       " '“And hast thou slain the Jabberwock?',\n",
       " '<NEWLINE>',\n",
       " 'Come to my arms, my beamish boy',\n",
       " '<NEWLINE>',\n",
       " 'O frabjous day',\n",
       " 'Callooh',\n",
       " 'Callay',\n",
       " '”',\n",
       " '<NEWLINE>',\n",
       " 'He chortled in his joy',\n",
       " '<NEWLINE>',\n",
       " '<NEWLINE>',\n",
       " '’Twas brillig, and the slithy toves',\n",
       " '<NEWLINE>',\n",
       " 'Did gyre and gimble in the wabe:',\n",
       " '<NEWLINE>',\n",
       " 'All mimsy were the borogoves,',\n",
       " '<NEWLINE>',\n",
       " 'And the mome raths outgrabe']"
      ]
     },
     "execution_count": 32,
     "metadata": {},
     "output_type": "execute_result"
    }
   ],
   "source": [
    "# Turn file into JSON:\n",
    "\n",
    "# Read input\n",
    "full_text = open(\"jabberwocky.txt\", \"r\").read()\n",
    "\n",
    "# Parse file into sentences:\n",
    "full_text = full_text.replace(\"\\n\", \"\\n<NEWLINE>\\n\")\n",
    "full_text = full_text.replace(\"\\t\", \"TAB\")\n",
    "sentences = re.split(r\"[.!\\n]\", full_text)\n",
    "sentences = [s.strip() for s in sentences]\n",
    "sentences = [s for s in sentences if len(s) > 0]\n",
    "\n",
    "# Turn sentences into JSON\n",
    "# sentences = str(sentences)\n",
    "sentences\n"
   ]
  },
  {
   "cell_type": "code",
   "execution_count": 12,
   "metadata": {},
   "outputs": [],
   "source": [
    "# Prompt\n",
    "\n",
    "prompt = f\"\"\"\n",
    "Please translate the following text from {SOURCE_LANGUAGE} to {TARGET_LANGUAGE}.\n",
    "Sentences are provided as a JSON list of sentences. Please translate each\n",
    "sentence individually and return a JSON list of translated sentences. The token\n",
    "<NEWLINE> represents a newline character and should be transcribed verbatim.\n",
    "\"\"\"\n"
   ]
  },
  {
   "cell_type": "code",
   "execution_count": 19,
   "metadata": {},
   "outputs": [
    {
     "data": {
      "text/plain": [
       "<OpenAIObject chat.completion id=chatcmpl-7pOMwKMS8Y1eDsJ6OiKoWS9j7u5A8 at 0x7f853b223890> JSON: {\n",
       "  \"id\": \"chatcmpl-7pOMwKMS8Y1eDsJ6OiKoWS9j7u5A8\",\n",
       "  \"object\": \"chat.completion\",\n",
       "  \"created\": 1692482758,\n",
       "  \"model\": \"gpt-4-0613\",\n",
       "  \"choices\": [\n",
       "    {\n",
       "      \"index\": 0,\n",
       "      \"message\": {\n",
       "        \"role\": \"assistant\",\n",
       "        \"content\": \"['\\u0411\\u044b\\u043b \\u0432\\u0435\\u0447\\u0435\\u0440\\u043e\\u043a, \\u0438 \\u0441\\u043a\\u043e\\u043b\\u044c\\u0437\\u043a\\u0438\\u0435 \\u0442\\u043e\\u0432\\u044b', '<NEWLINE>', '\\u0412 \\u0432\\u0430\\u0431\\u0435 \\u043a\\u0440\\u0443\\u0436\\u0438\\u043b\\u0438\\u0441\\u044c \\u0438 \\u0432\\u0435\\u0440\\u0442\\u0435\\u043b\\u0438\\u0441\\u044c:', '<NEWLINE>', '\\u0412\\u0441\\u0435 \\u043c\\u0438\\u043c\\u0437\\u0438 \\u0431\\u044b\\u043b\\u0438 \\u0431\\u043e\\u0440\\u043e\\u0433\\u043e\\u0432\\u044b,', '<NEWLINE>', '\\u0418 \\u043c\\u043e\\u043c\\u044b \\u0440\\u0430\\u0444\\u044b \\u0432\\u044b\\u0433\\u0440\\u0435\\u0431\\u0430\\u043b\\u0438', '<NEWLINE>', '<NEWLINE>', '\\u201c\\u041e\\u0441\\u0442\\u0435\\u0440\\u0435\\u0433\\u0430\\u0439\\u0441\\u044f \\u0414\\u0436\\u0430\\u0431\\u0431\\u0435\\u0440\\u0432\\u043e\\u043a\\u0430, \\u043c\\u043e\\u0439 \\u0441\\u044b\\u043d', '<NEWLINE>', '\\u0427\\u0435\\u043b\\u044e\\u0441\\u0442\\u0438, \\u0447\\u0442\\u043e \\u043a\\u0443\\u0441\\u0430\\u044e\\u0442, \\u043a\\u043e\\u0433\\u0442\\u0438, \\u0447\\u0442\\u043e \\u043b\\u043e\\u0432\\u044f\\u0442', '<NEWLINE>', '\\u041e\\u0441\\u0442\\u0435\\u0440\\u0435\\u0433\\u0430\\u0439\\u0441\\u044f \\u043f\\u0442\\u0438\\u0446\\u044b \\u0414\\u0436\\u0443\\u0431\\u0434\\u0436\\u0443\\u0431, \\u0438 \\u0438\\u0437\\u0431\\u0435\\u0433\\u0430\\u0439', '<NEWLINE>', '\\u0413\\u043d\\u0435\\u0432\\u043d\\u043e\\u0433\\u043e \\u0411\\u0430\\u043d\\u0434\\u0435\\u0440\\u0441\\u043d\\u0430\\u0442\\u0447\\u0430', '\\u201d', '<NEWLINE>', '<NEWLINE>', '\\u041e\\u043d \\u0432\\u0437\\u044f\\u043b \\u0441\\u0432\\u043e\\u0439 \\u0432\\u043e\\u0440\\u043f\\u0430\\u043b-\\u043c\\u0435\\u0447 \\u0432 \\u0440\\u0443\\u043a\\u0438;', '<NEWLINE>', '\\u0414\\u043e\\u043b\\u0433\\u043e \\u0438\\u0441\\u043a\\u0430\\u043b \\u043e\\u043d \\u0432\\u0440\\u0430\\u0433\\u0430 \\u043c\\u0430\\u043d\\u043a\\u0441\\u043e\\u043c\\u0430\\u2014', '<NEWLINE>', '\\u0422\\u0430\\u043a \\u043e\\u0442\\u0434\\u043e\\u0445\\u043d\\u0443\\u043b \\u043e\\u043d \\u043f\\u043e\\u0434 \\u0434\\u0435\\u0440\\u0435\\u0432\\u043e\\u043c \\u0422\\u0430\\u043c\\u0442\\u0430\\u043c', '<NEWLINE>', '\\u0418 \\u0441\\u0442\\u043e\\u044f\\u043b \\u043d\\u0435\\u043a\\u043e\\u0442\\u043e\\u0440\\u043e\\u0435 \\u0432\\u0440\\u0435\\u043c\\u044f \\u0432 \\u0440\\u0430\\u0437\\u0434\\u0443\\u043c\\u044c\\u0435', '<NEWLINE>', '<NEWLINE>', '\\u0418, \\u0441\\u0442\\u043e\\u044f \\u0432 \\u0443\\u0444\\u0444\\u0438\\u0448\\u043d\\u043e\\u0439 \\u0437\\u0430\\u0434\\u0443\\u043c\\u0447\\u0438\\u0432\\u043e\\u0441\\u0442\\u0438,', '<NEWLINE>', '\\u0414\\u0436\\u0430\\u0431\\u0431\\u0435\\u0440\\u0432\\u043e\\u043a, \\u0441 \\u0433\\u043b\\u0430\\u0437\\u0430\\u043c\\u0438 \\u043f\\u043b\\u0430\\u043c\\u0435\\u043d\\u043d\\u044b\\u043c\\u0438,', '<NEWLINE>', '\\u041f\\u0440\\u0438\\u0448\\u0443\\u0440\\u0448\\u0430\\u043b \\u0441\\u043a\\u0432\\u043e\\u0437\\u044c \\u0442\\u0443\\u043b\\u0433\\u0438 \\u043b\\u0435\\u0441,', '<NEWLINE>', '\\u0418 \\u0431\\u0443\\u0440\\u0447\\u0430\\u043b, \\u043a\\u0430\\u043a \\u043f\\u0440\\u0438\\u0448\\u0435\\u043b', '<NEWLINE>', '<NEWLINE>', '\\u0420\\u0430\\u0437, \\u0434\\u0432\\u0430', '\\u0420\\u0430\\u0437, \\u0434\\u0432\\u0430', '\\u0418 \\u0432\\u0437\\u0430\\u0434 \\u0438 \\u0432\\u043f\\u0435\\u0440\\u0435\\u0434', '<NEWLINE>', '\\u0412\\u043e\\u0440\\u043f\\u0430\\u043b-\\u043b\\u0435\\u0437\\u0432\\u0438\\u0435 \\u0448\\u043c\\u044b\\u0433-\\u0448\\u043c\\u044b\\u0433', '<NEWLINE>', '\\u041e\\u043d \\u043e\\u0441\\u0442\\u0430\\u0432\\u0438\\u043b \\u0435\\u0433\\u043e \\u043c\\u0435\\u0440\\u0442\\u0432\\u044b\\u043c, \\u0438 \\u0441 \\u0435\\u0433\\u043e \\u0433\\u043e\\u043b\\u043e\\u0432\\u043e\\u0439', '<NEWLINE>', '\\u041e\\u043d \\u0432\\u0435\\u0440\\u043d\\u0443\\u043b\\u0441\\u044f \\u0433\\u0430\\u043b\\u0430\\u043c\\u0444\\u0438\\u0440\\u0443\\u044f', '<NEWLINE>', '<NEWLINE>', '\\u201c\\u0418 \\u0442\\u044b \\u0443\\u0431\\u0438\\u043b \\u0414\\u0436\\u0430\\u0431\\u0431\\u0435\\u0440\\u0432\\u043e\\u043a\\u0430?', '<NEWLINE>', '\\u041f\\u0440\\u0438\\u0434\\u0438 \\u0432 \\u043c\\u043e\\u0438 \\u043e\\u0431\\u044a\\u044f\\u0442\\u0438\\u044f, \\u043c\\u043e\\u0439 \\u043b\\u0443\\u0447\\u0435\\u0437\\u0430\\u0440\\u043d\\u044b\\u0439 \\u043c\\u0430\\u043b\\u044c\\u0447\\u0438\\u043a', '<NEWLINE>', '\\u041e \\u0440\\u0430\\u0434\\u043e\\u0441\\u0442\\u043d\\u044b\\u0439 \\u0434\\u0435\\u043d\\u044c', '\\u041a\\u0430\\u043b\\u0443', '\\u041a\\u0430\\u043b\\u0430\\u0439', '\\u201d', '<NEWLINE>', '\\u041e\\u043d \\u0445\\u0438\\u0445\\u0438\\u043a\\u0430\\u043b \\u043e\\u0442 \\u0440\\u0430\\u0434\\u043e\\u0441\\u0442\\u0438', '<NEWLINE>', '<NEWLINE>', '\\u0411\\u044b\\u043b \\u0432\\u0435\\u0447\\u0435\\u0440\\u043e\\u043a, \\u0438 \\u0441\\u043a\\u043e\\u043b\\u044c\\u0437\\u043a\\u0438\\u0435 \\u0442\\u043e\\u0432\\u044b', '<NEWLINE>', '\\u0412 \\u0432\\u0430\\u0431\\u0435 \\u043a\\u0440\\u0443\\u0436\\u0438\\u043b\\u0438\\u0441\\u044c \\u0438 \\u0432\\u0435\\u0440\\u0442\\u0435\\u043b\\u0438\\u0441\\u044c:', '<NEWLINE>', '\\u0412\\u0441\\u0435 \\u043c\\u0438\\u043c\\u0437\\u0438 \\u0431\\u044b\\u043b\\u0438 \\u0431\\u043e\\u0440\\u043e\\u0433\\u043e\\u0432\\u044b,', '<NEWLINE>', '\\u0418 \\u043c\\u043e\\u043c\\u044b \\u0440\\u0430\\u0444\\u044b \\u0432\\u044b\\u0433\\u0440\\u0435\\u0431\\u0430\\u043b\\u0438']\"\n",
       "      },\n",
       "      \"finish_reason\": \"stop\"\n",
       "    }\n",
       "  ],\n",
       "  \"usage\": {\n",
       "    \"prompt_tokens\": 532,\n",
       "    \"completion_tokens\": 660,\n",
       "    \"total_tokens\": 1192\n",
       "  }\n",
       "}"
      ]
     },
     "execution_count": 19,
     "metadata": {},
     "output_type": "execute_result"
    }
   ],
   "source": [
    "# API call\n",
    "response = openai.ChatCompletion.create(\n",
    "    model=MODEL,\n",
    "    messages=[\n",
    "        {\"role\": \"system\", \"content\": prompt},\n",
    "        {\"role\": \"user\", \"content\": sentences},\n",
    "    ],\n",
    "    temperature=0.0,\n",
    ")\n",
    "response\n"
   ]
  },
  {
   "cell_type": "code",
   "execution_count": 26,
   "metadata": {},
   "outputs": [
    {
     "name": "stdout",
     "output_type": "stream",
     "text": [
      "['Был вечерок, и скользкие товы', '<NEWLINE>', 'В вабе кружились и вертелись:', '<NEWLINE>', 'Все мимзи были бороговы,', '<NEWLINE>', 'И момы рафы выгребали', '<NEWLINE>', '<NEWLINE>', '“Остерегайся Джаббервока, мой сын', '<NEWLINE>', 'Челюсти, что кусают, когти, что ловят', '<NEWLINE>', 'Остерегайся птицы Джубджуб, и избегай', '<NEWLINE>', 'Гневного Бандерснатча', '”', '<NEWLINE>', '<NEWLINE>', 'Он взял свой ворпал-меч в руки;', '<NEWLINE>', 'Долго искал он врага манксома—', '<NEWLINE>', 'Так отдохнул он под деревом Тамтам', '<NEWLINE>', 'И стоял некоторое время в раздумье', '<NEWLINE>', '<NEWLINE>', 'И, стоя в уффишной задумчивости,', '<NEWLINE>', 'Джаббервок, с глазами пламенными,', '<NEWLINE>', 'Пришуршал сквозь тулги лес,', '<NEWLINE>', 'И бурчал, как пришел', '<NEWLINE>', '<NEWLINE>', 'Раз, два', 'Раз, два', 'И взад и вперед', '<NEWLINE>', 'Ворпал-лезвие шмыг-шмыг', '<NEWLINE>', 'Он оставил его мертвым, и с его головой', '<NEWLINE>', 'Он вернулся галамфируя', '<NEWLINE>', '<NEWLINE>', '“И ты убил Джаббервока?', '<NEWLINE>', 'Приди в мои объятия, мой лучезарный мальчик', '<NEWLINE>', 'О радостный день', 'Калу', 'Калай', '”', '<NEWLINE>', 'Он хихикал от радости', '<NEWLINE>', '<NEWLINE>', 'Был вечерок, и скользкие товы', '<NEWLINE>', 'В вабе кружились и вертелись:', '<NEWLINE>', 'Все мимзи были бороговы,', '<NEWLINE>', 'И момы рафы выгребали']\n"
     ]
    }
   ],
   "source": [
    "print(response[\"choices\"][0][\"message\"][\"content\"])"
   ]
  },
  {
   "cell_type": "code",
   "execution_count": 33,
   "metadata": {},
   "outputs": [
    {
     "name": "stdout",
     "output_type": "stream",
     "text": [
      "Broke input into 1 chunks spanning 67 sentences and 411 tokens.\n"
     ]
    },
    {
     "data": {
      "text/plain": [
       "[['’Twas brillig, and the slithy toves',\n",
       "  '<NEWLINE>',\n",
       "  'Did gyre and gimble in the wabe:',\n",
       "  '<NEWLINE>',\n",
       "  'All mimsy were the borogoves,',\n",
       "  '<NEWLINE>',\n",
       "  'And the mome raths outgrabe',\n",
       "  '<NEWLINE>',\n",
       "  '<NEWLINE>',\n",
       "  '“Beware the Jabberwock, my son',\n",
       "  '<NEWLINE>',\n",
       "  'The jaws that bite, the claws that catch',\n",
       "  '<NEWLINE>',\n",
       "  'Beware the Jubjub bird, and shun',\n",
       "  '<NEWLINE>',\n",
       "  'The frumious Bandersnatch',\n",
       "  '”',\n",
       "  '<NEWLINE>',\n",
       "  '<NEWLINE>',\n",
       "  'He took his vorpal sword in hand;',\n",
       "  '<NEWLINE>',\n",
       "  'Long time the manxome foe he sought—',\n",
       "  '<NEWLINE>',\n",
       "  'So rested he by the Tumtum tree',\n",
       "  '<NEWLINE>',\n",
       "  'And stood awhile in thought',\n",
       "  '<NEWLINE>',\n",
       "  '<NEWLINE>',\n",
       "  'And, as in uffish thought he stood,',\n",
       "  '<NEWLINE>',\n",
       "  'The Jabberwock, with eyes of flame,',\n",
       "  '<NEWLINE>',\n",
       "  'Came whiffling through the tulgey wood,',\n",
       "  '<NEWLINE>',\n",
       "  'And burbled as it came',\n",
       "  '<NEWLINE>',\n",
       "  '<NEWLINE>',\n",
       "  'One, two',\n",
       "  'One, two',\n",
       "  'And through and through',\n",
       "  '<NEWLINE>',\n",
       "  'The vorpal blade went snicker-snack',\n",
       "  '<NEWLINE>',\n",
       "  'He left it dead, and with its head',\n",
       "  '<NEWLINE>',\n",
       "  'He went galumphing back',\n",
       "  '<NEWLINE>',\n",
       "  '<NEWLINE>',\n",
       "  '“And hast thou slain the Jabberwock?',\n",
       "  '<NEWLINE>',\n",
       "  'Come to my arms, my beamish boy',\n",
       "  '<NEWLINE>',\n",
       "  'O frabjous day',\n",
       "  'Callooh',\n",
       "  'Callay',\n",
       "  '”',\n",
       "  '<NEWLINE>',\n",
       "  'He chortled in his joy',\n",
       "  '<NEWLINE>',\n",
       "  '<NEWLINE>',\n",
       "  '’Twas brillig, and the slithy toves',\n",
       "  '<NEWLINE>',\n",
       "  'Did gyre and gimble in the wabe:',\n",
       "  '<NEWLINE>',\n",
       "  'All mimsy were the borogoves,',\n",
       "  '<NEWLINE>',\n",
       "  'And the mome raths outgrabe']]"
      ]
     },
     "execution_count": 33,
     "metadata": {},
     "output_type": "execute_result"
    }
   ],
   "source": [
    "# Turn sentences array into chunks so we don't exceed the max token limit\n",
    "from transformers import GPT2TokenizerFast\n",
    "\n",
    "chunks = []\n",
    "chunk = []\n",
    "chunk_length = 0\n",
    "total_tokens = 0\n",
    "tokenizer = GPT2TokenizerFast.from_pretrained(\"gpt2\")\n",
    "for sentence in sentences:\n",
    "    n_tokens = len(tokenizer(sentence)[\"input_ids\"])\n",
    "    if chunk_length + n_tokens > 4096:\n",
    "        chunks.append(chunk)\n",
    "        chunk = []\n",
    "        total_tokens += chunk_length\n",
    "        chunk_length = 0\n",
    "    chunk.append(sentence)\n",
    "    chunk_length += n_tokens\n",
    "chunks.append(chunk)  # Add the last chunk\n",
    "total_tokens += chunk_length\n",
    "print(\n",
    "    f\"Broke input into {len(chunks)} chunks spanning {len(sentences)} sentences and {total_tokens} tokens.\",\n",
    ")\n",
    "chunks"
   ]
  },
  {
   "cell_type": "code",
   "execution_count": 34,
   "metadata": {},
   "outputs": [
    {
     "data": {
      "text/plain": [
       "[\"['Был вечерок, и скользкие товы', '<NEWLINE>', 'Вращались и кружились в вабе:', '<NEWLINE>', 'Все мимзи были бороговы,', '<NEWLINE>', 'И момы раты выгребали', '<NEWLINE>', '<NEWLINE>', '“Остерегайся Жаббервока, мой сын', '<NEWLINE>', 'Челюсти, что кусают, когти, что ловят', '<NEWLINE>', 'Остерегайся птицы Юб-юб, и избегай', '<NEWLINE>', 'Зловещего Бандершнатча', '”', '<NEWLINE>', '<NEWLINE>', 'Он взял свой ворпаловый меч в руки;', '<NEWLINE>', 'Долго искал он врага манксома—', '<NEWLINE>', 'Так отдыхал он у дерева Тамтам', '<NEWLINE>', 'И стоял некоторое время в раздумье', '<NEWLINE>', '<NEWLINE>', 'И, стоя в уффишной задумчивости,', '<NEWLINE>', 'Жаббервок, с глазами пламени,', '<NEWLINE>', 'Пришуршал сквозь тулги лес,', '<NEWLINE>', 'И бурчал, как приходил', '<NEWLINE>', '<NEWLINE>', 'Раз, два', 'Раз, два', 'И взад и вперед', '<NEWLINE>', 'Ворпаловый клинок шмыг-шмяк', '<NEWLINE>', 'Он оставил его мертвым, и с его головой', '<NEWLINE>', 'Он вернулся галамфируя', '<NEWLINE>', '<NEWLINE>', '“И ты убил Жаббервока?', '<NEWLINE>', 'Приди в мои объятия, мой бимишный мальчик', '<NEWLINE>', 'О фрабжусный день', 'Калу', 'Калай', '”', '<NEWLINE>', 'Он хихикал от радости', '<NEWLINE>', '<NEWLINE>', 'Был вечерок, и скользкие товы', '<NEWLINE>', 'Вращались и кружились в вабе:', '<NEWLINE>', 'Все мимзи были бороговы,', '<NEWLINE>', 'И момы раты выгребали']\"]"
      ]
     },
     "execution_count": 34,
     "metadata": {},
     "output_type": "execute_result"
    }
   ],
   "source": [
    "# API call:\n",
    "responses = []\n",
    "for chunk in chunks:\n",
    "    response = openai.ChatCompletion.create(\n",
    "        model=MODEL,\n",
    "        messages=[\n",
    "            {\"role\": \"system\", \"content\": prompt},\n",
    "            {\"role\": \"user\", \"content\": str(chunk)},\n",
    "            # str(chunk) is JSON-formatted by default\n",
    "        ],\n",
    "        temperature=0.0,\n",
    "    )\n",
    "    response_message = response[\"choices\"][0][\"message\"][\"content\"]\n",
    "    responses.append(response_message)\n",
    "\n",
    "    # Check for weirdness\n",
    "    if response[\"choices\"][0][\"finish_reason\"] == \"max_tokens\":\n",
    "        print(\n",
    "            f\"WARNING: Reached max tokens for chunk {chunk}. Translation may be incomplete.\",\n",
    "            file=sys.stderr,\n",
    "        )\n",
    "\n",
    "responses"
   ]
  },
  {
   "cell_type": "code",
   "execution_count": 39,
   "metadata": {},
   "outputs": [],
   "source": [
    "import json\n",
    "\n",
    "responses_parsed = eval(responses[0])"
   ]
  },
  {
   "cell_type": "code",
   "execution_count": 40,
   "metadata": {},
   "outputs": [
    {
     "data": {
      "text/plain": [
       "['Был вечерок, и скользкие товы',\n",
       " '<NEWLINE>',\n",
       " 'Вращались и кружились в вабе:',\n",
       " '<NEWLINE>',\n",
       " 'Все мимзи были бороговы,',\n",
       " '<NEWLINE>',\n",
       " 'И момы раты выгребали',\n",
       " '<NEWLINE>',\n",
       " '<NEWLINE>',\n",
       " '“Остерегайся Жаббервока, мой сын',\n",
       " '<NEWLINE>',\n",
       " 'Челюсти, что кусают, когти, что ловят',\n",
       " '<NEWLINE>',\n",
       " 'Остерегайся птицы Юб-юб, и избегай',\n",
       " '<NEWLINE>',\n",
       " 'Зловещего Бандершнатча',\n",
       " '”',\n",
       " '<NEWLINE>',\n",
       " '<NEWLINE>',\n",
       " 'Он взял свой ворпаловый меч в руки;',\n",
       " '<NEWLINE>',\n",
       " 'Долго искал он врага манксома—',\n",
       " '<NEWLINE>',\n",
       " 'Так отдыхал он у дерева Тамтам',\n",
       " '<NEWLINE>',\n",
       " 'И стоял некоторое время в раздумье',\n",
       " '<NEWLINE>',\n",
       " '<NEWLINE>',\n",
       " 'И, стоя в уффишной задумчивости,',\n",
       " '<NEWLINE>',\n",
       " 'Жаббервок, с глазами пламени,',\n",
       " '<NEWLINE>',\n",
       " 'Пришуршал сквозь тулги лес,',\n",
       " '<NEWLINE>',\n",
       " 'И бурчал, как приходил',\n",
       " '<NEWLINE>',\n",
       " '<NEWLINE>',\n",
       " 'Раз, два',\n",
       " 'Раз, два',\n",
       " 'И взад и вперед',\n",
       " '<NEWLINE>',\n",
       " 'Ворпаловый клинок шмыг-шмяк',\n",
       " '<NEWLINE>',\n",
       " 'Он оставил его мертвым, и с его головой',\n",
       " '<NEWLINE>',\n",
       " 'Он вернулся галамфируя',\n",
       " '<NEWLINE>',\n",
       " '<NEWLINE>',\n",
       " '“И ты убил Жаббервока?',\n",
       " '<NEWLINE>',\n",
       " 'Приди в мои объятия, мой бимишный мальчик',\n",
       " '<NEWLINE>',\n",
       " 'О фрабжусный день',\n",
       " 'Калу',\n",
       " 'Калай',\n",
       " '”',\n",
       " '<NEWLINE>',\n",
       " 'Он хихикал от радости',\n",
       " '<NEWLINE>',\n",
       " '<NEWLINE>',\n",
       " 'Был вечерок, и скользкие товы',\n",
       " '<NEWLINE>',\n",
       " 'Вращались и кружились в вабе:',\n",
       " '<NEWLINE>',\n",
       " 'Все мимзи были бороговы,',\n",
       " '<NEWLINE>',\n",
       " 'И момы раты выгребали']"
      ]
     },
     "execution_count": 40,
     "metadata": {},
     "output_type": "execute_result"
    }
   ],
   "source": [
    "responses_parsed"
   ]
  },
  {
   "cell_type": "code",
   "execution_count": null,
   "metadata": {},
   "outputs": [],
   "source": []
  }
 ],
 "metadata": {
  "kernelspec": {
   "display_name": "gpt_translate",
   "language": "python",
   "name": "python3"
  },
  "language_info": {
   "codemirror_mode": {
    "name": "ipython",
    "version": 3
   },
   "file_extension": ".py",
   "mimetype": "text/x-python",
   "name": "python",
   "nbconvert_exporter": "python",
   "pygments_lexer": "ipython3",
   "version": "3.11.4"
  },
  "orig_nbformat": 4
 },
 "nbformat": 4,
 "nbformat_minor": 2
}
